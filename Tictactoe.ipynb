import tkinter as tk
from tkinter import messagebox

root = tk.Tk()
root.title("Tic-Tac-Toe")
root.resizable(False, False)

current_player = "X"
count = 0
board = [["" for _ in range(3)] for _ in range(3)]

def check_winner():
    global count
    for i in range(3):
        if board[i][0] == board[i][1] == board[i][2] and board[i][0] != "":
            show_winner(board[i][0])
            return
        if board[0][i] == board[1][i] == board[2][i] and board[0][i] != "":
            show_winner(board[0][i])
            return
    if board[0][0] == board[1][1] == board[2][2] and board[0][0] != "":
        show_winner(board[0][0])
        return
    if board[0][2] == board[1][1] == board[2][0] and board[0][2] != "":
        show_winner(board[0][2])
        return
    if count == 9:
        messagebox.showinfo("Tic-Tac-Toe", "Match Nul!")
        reset_game()

def show_winner(player):
    if player == "X":
      messagebox.showinfo("Tic-Tac-Toe", f"Le gagnant est Mouhamed !")
    else:
      messagebox.showinfo("Tic-Tac-Toe", f"Le gagnant est Fatima!")  
    reset_game()

def button_click(row, col, button):
    global current_player, count
    if board[row][col] == "" and button["text"] == "":
        button.config(text=current_player, font=("Arial", 24, "bold"), width=5, height=2)
        board[row][col] = current_player
        count += 1
        check_winner()
        current_player = "O" if current_player == "X" else "X"

def reset_game():
    global board, current_player, count
    count = 0
    current_player = "X"
    board = [["" for _ in range(3)] for _ in range(3)]
    for i in range(3):
        for j in range(3):
            buttons[i][j].config(text="", width=5, height=2)

buttons = [[None for _ in range(3)] for _ in range(3)]
for i in range(3):
    for j in range(3):
        buttons[i][j] = tk.Button(root, text="", width=5, height=2, font=("Arial", 24, "bold"),
                                  command=lambda i=i, j=j: button_click(i, j, buttons[i][j]))
        buttons[i][j].grid(row=i, column=j, padx=5, pady=5)

root.mainloop()
