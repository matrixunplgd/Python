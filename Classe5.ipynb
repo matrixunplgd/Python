{
 "cells": [
  {
   "cell_type": "code",
   "execution_count": 20,
   "id": "decab8e0-b216-4b11-96cb-d0eb1aada554",
   "metadata": {},
   "outputs": [
    {
     "name": "stdin",
     "output_type": "stream",
     "text": [
      "Veuillez saisir le nombre d Etudiants 2\n",
      "Veuillez saisir le nombre de matieres 2\n",
      "Veuillez  saisir le nom complet de l'Etudiant Mouhamed\n",
      "Saisissez les notes de l Etudiant Mouhamed pour la matiere 1 12\n",
      "Saisissez les notes de l Etudiant Mouhamed pour la matiere 2 18\n",
      "Veuillez  saisir le nom complet de l'Etudiant Fallou\n",
      "Saisissez les notes de l Etudiant Fallou pour la matiere 1 10\n",
      "Saisissez les notes de l Etudiant Fallou pour la matiere 2 20\n"
     ]
    },
    {
     "name": "stdout",
     "output_type": "stream",
     "text": [
      "Resultat des etudiants :\n",
      "Etudiant : Mouhamed\n",
      "Notes: [12. 18.]\n",
      "Total: 30.0\n",
      "Pourcentage : 15.00%\n",
      "Mention : F\n",
      "\n",
      "Etudiant : Fallou\n",
      "Notes: [10. 20.]\n",
      "Total: 30.0\n",
      "Pourcentage : 15.00%\n",
      "Mention : F\n",
      "\n"
     ]
    }
   ],
   "source": [
    "import numpy as np\n",
    "\n",
    "nmbr_etud = int(input(\"Veuillez saisir le nombre d Etudiants\"))\n",
    "nmbr_mat = int(input(\"Veuillez saisir le nombre de matieres\"))\n",
    "\n",
    "names = []\n",
    "mention = []\n",
    "somme = np.zeros(nmbr_etud)\n",
    "pourcentage = np.zeros(nmbr_etud)\n",
    "new_array = np.zeros((nmbr_etud, nmbr_mat))\n",
    "\n",
    "for i in range(nmbr_etud):\n",
    "    name = (input(\"Veuillez  saisir le nom complet de l'Etudiant\"))    \n",
    "    names.append(name)\n",
    "    \n",
    "    for j in range(nmbr_mat):\n",
    "        note = float(input(f\"Saisissez les notes de l Etudiant {name} pour la matiere {j+1}\"))\n",
    "        new_array[i, j] = note \n",
    "\n",
    "    somme[i] = np.sum(new_array[i, :])\n",
    "    pourcentage[i] = (somme[i]/ (nmbr_mat * 100)) * 100\n",
    "    if pourcentage[i] >= 90:\n",
    "            mention.append(\"A+\")\n",
    "    elif  80 <= pourcentage[i] <90:\n",
    "            mention.append(\"A\")\n",
    "    elif  70 <= pourcentage[i] <80:\n",
    "            mention.append(\"B+\")        \n",
    "    elif  60 <= pourcentage[i] <70:\n",
    "            mention.append(\"B\")        \n",
    "    elif  50 <= pourcentage[i] <60:\n",
    "            mention.append(\"C\")        \n",
    "    else :\n",
    "            mention.append(\"F\")        \n",
    "\n",
    "print(\"Resultat des etudiants :\")\n",
    "\n",
    "for i in range(nmbr_etud):\n",
    "    print(f\"Etudiant : {names[i]}\")\n",
    "    print(f\"Notes: { new_array[i,:]}\")\n",
    "    print(f\"Total: {somme[i]}\")\n",
    "    print(f\"Pourcentage : {pourcentage[i]:.2f}%\")\n",
    "    print(f\"Mention : {mention[i]}\\n\")\n",
    "\n",
    "\n",
    "        \n",
    "        \n",
    "\n"
   ]
  },
  {
   "cell_type": "code",
   "execution_count": null,
   "id": "c71205f5-fef3-4454-a669-6930c54e2e7e",
   "metadata": {},
   "outputs": [],
   "source": []
  }
 ],
 "metadata": {
  "kernelspec": {
   "display_name": "Python 3 (ipykernel)",
   "language": "python",
   "name": "python3"
  },
  "language_info": {
   "codemirror_mode": {
    "name": "ipython",
    "version": 3
   },
   "file_extension": ".py",
   "mimetype": "text/x-python",
   "name": "python",
   "nbconvert_exporter": "python",
   "pygments_lexer": "ipython3",
   "version": "3.12.7"
  }
 },
 "nbformat": 4,
 "nbformat_minor": 5
}
