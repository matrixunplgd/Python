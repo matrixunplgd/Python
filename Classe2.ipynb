{
 "cells": [
  {
   "cell_type": "code",
   "execution_count": 35,
   "id": "2f9bfc96-4ca2-49a3-81ba-f9841b9290f1",
   "metadata": {},
   "outputs": [
    {
     "name": "stdout",
     "output_type": "stream",
     "text": [
      "36\n"
     ]
    }
   ],
   "source": [
    "#Quetsion1\n",
    "list=[2,3,6]\n",
    "i=0\n",
    "result=1\n",
    "while i < len(list):\n",
    "    result=list[i]*result\n",
    "    i=i+1\n",
    "print(result)\n",
    "\n",
    "#Question 2\n",
    "# Fonction pour obtenir le dernier élément d'un tuple\n",
    "def obtenir_dernier_element(t):\n",
    "    return t[-1]\n",
    "\n",
    "# Liste d'échantillons\n",
    "liste_tuples = [(2, 5), (1, 2), (4, 4), (2, 3), (2, 1)]\n",
    "\n",
    "# Trier la liste par ordre croissant du dernier élément\n",
    "liste_triee = sorted(liste_tuples, key=obtenir_dernier_element)\n",
    "\n",
    "# Affichage du résultat\n",
    "print(liste_triee)\n",
    "\n",
    "#Question 3\n",
    "from collections import Counter\n",
    "\n",
    "d1 = {'a': 100, 'b': 200, 'c':300}\n",
    "\n",
    "d2 = {'a': 300, 'b': 200, 'd':400}\n",
    "\n",
    "result= dict(Counter(d1) + Counter(d2))\n",
    "\n",
    "print(result)\n",
    "\n",
    "Question 4\n",
    "# Demander à l'utilisateur de saisir un nombre entier\n",
    "n = int(input(\"Entrez un nombre entier : \"))\n",
    "\n",
    "# Générer le dictionnaire avec des compréhensions de dictionnaire\n",
    "carres = {i: i * i for i in range(1, n + 1)}\n",
    "\n",
    "# Afficher le dictionnaire\n",
    "print(carres)\n",
    "\n",
    "\n",
    "#Question 5\n",
    "liste=[('item1','12.20'),('item2','15.10'),('item3','24.5')]\n",
    "liste.sort(reverse=True)\n",
    "print(liste)\n",
    "\n",
    "#Question 6\n",
    "\n",
    "# Créer un ensemble vide\n",
    "mon_ensemble = set()\n",
    "\n",
    "# Demander à l'utilisateur combien d'éléments il veut ajouter\n",
    "number = int(input(\"Veuillez saisir le nombre d'éléments dans votre set: \"))\n",
    "\n",
    "# Ajouter des éléments à l'ensemble\n",
    "for i in range(number):\n",
    "    element = int(input(f\"Veuillez saisir l'élément {i+1}: \"))\n",
    "    mon_ensemble.add(element)\n",
    "\n",
    "print(\"Ensemble cree :\",mon_ensemble)\n",
    "#iteration\n",
    "for element in mon_ensemble:\n",
    "  print(\"Element:\", element)\n",
    "\n",
    "choix = int(input(\"Combien d elements souhaitez vous ajouter\"))\n",
    "\n",
    "for i in range(choix) :\n",
    "  azy=int(input(f\"Choisissez le {+i+1} element\"))\n",
    "  mon_ensemble.add(azy)\n",
    "\n",
    "print(\"Ensemble final:\",mon_ensemble)"
   ]
  },
  {
   "cell_type": "code",
   "execution_count": 43,
   "id": "a91d9f31-7b86-4404-ac0c-fd024ef5da49",
   "metadata": {},
   "outputs": [
    {
     "name": "stdout",
     "output_type": "stream",
     "text": [
      "{'a': 400, 'b': 400, 'c': 300, 'd': 400}\n"
     ]
    }
   ],
   "source": [
    "from collections import Counter\n",
    "\n",
    "d1 = {'a': 100, 'b': 200, 'c':300}\n",
    "\n",
    "d2 = {'a': 300, 'b': 200, 'd':400}\n",
    "\n",
    "result= dict(Counter(d1) + Counter(d2))\n",
    "\n",
    "print(result)\n"
   ]
  },
  {
   "cell_type": "code",
   "execution_count": 68,
   "id": "00e9ddee-431d-4714-a88b-0bab2d343904",
   "metadata": {},
   "outputs": [
    {
     "ename": "TypeError",
     "evalue": "'tuple' object is not callable",
     "output_type": "error",
     "traceback": [
      "\u001b[1;31m---------------------------------------------------------------------------\u001b[0m",
      "\u001b[1;31mTypeError\u001b[0m                                 Traceback (most recent call last)",
      "Cell \u001b[1;32mIn[68], line 2\u001b[0m\n\u001b[0;32m      1\u001b[0m \u001b[38;5;66;03m# Créer un ensemble vide\u001b[39;00m\n\u001b[1;32m----> 2\u001b[0m my_set \u001b[38;5;241m=\u001b[39m \u001b[38;5;28mset\u001b[39m()\n\u001b[0;32m      4\u001b[0m \u001b[38;5;66;03m# Demander à l'utilisateur combien d'éléments il veut ajouter\u001b[39;00m\n\u001b[0;32m      5\u001b[0m number \u001b[38;5;241m=\u001b[39m \u001b[38;5;28mint\u001b[39m(\u001b[38;5;28minput\u001b[39m(\u001b[38;5;124m\"\u001b[39m\u001b[38;5;124mVeuillez saisir le nombre d\u001b[39m\u001b[38;5;124m'\u001b[39m\u001b[38;5;124méléments dans votre set: \u001b[39m\u001b[38;5;124m\"\u001b[39m))\n",
      "\u001b[1;31mTypeError\u001b[0m: 'tuple' object is not callable"
     ]
    }
   ],
   "source": [
    "\n"
   ]
  },
  {
   "cell_type": "code",
   "execution_count": null,
   "id": "67f63f32-6c36-4c73-9ff2-6d06dc8c18f2",
   "metadata": {},
   "outputs": [],
   "source": []
  },
  {
   "cell_type": "code",
   "execution_count": null,
   "id": "979ac118-b8ac-41bb-9469-16f3ef77ecc3",
   "metadata": {},
   "outputs": [],
   "source": []
  }
 ],
 "metadata": {
  "kernelspec": {
   "display_name": "Python 3 (ipykernel)",
   "language": "python",
   "name": "python3"
  },
  "language_info": {
   "codemirror_mode": {
    "name": "ipython",
    "version": 3
   },
   "file_extension": ".py",
   "mimetype": "text/x-python",
   "name": "python",
   "nbconvert_exporter": "python",
   "pygments_lexer": "ipython3",
   "version": "3.12.7"
  }
 },
 "nbformat": 4,
 "nbformat_minor": 5
}
