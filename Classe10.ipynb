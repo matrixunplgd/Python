import tkinter as tk

def fahrenheit_to_celsius():
    try:
        fahrenheit = float(ent_temperature.get())
        celsius = (fahrenheit - 32) * 5/9
        lbl_result.config(text=f"{round(celsius, 2)} \N{DEGREE CELSIUS}")
    except ValueError:
        lbl_result.config(text="Entrée invalide")

# Création de la fenêtre principale
window = tk.Tk()
window.title("Convertisseur de Température")
window.resizable(width=False, height=False)

# Création du cadre pour l'entrée
frm_entry = tk.Frame(master=window)
frm_entry.grid(row=0, column=0, padx=10)

# Champ de saisie pour Fahrenheit
ent_temperature = tk.Entry(master=frm_entry, width=10)
ent_temperature.grid(row=0, column=0, sticky="e")

# Label pour le symbole Fahrenheit
lbl_temp = tk.Label(master=frm_entry, text="\N{DEGREE FAHRENHEIT}")
lbl_temp.grid(row=0, column=1, sticky="w")

# Bouton de conversion
btn_convert = tk.Button(master=window, text="\N{RIGHTWARDS BLACK ARROW}", command=fahrenheit_to_celsius)
btn_convert.grid(row=0, column=1, pady=10)

# Label pour afficher le résultat en Celsius
lbl_result = tk.Label(master=window, text="\N{DEGREE CELSIUS}")
lbl_result.grid(row=0, column=2, padx=10)

# Lancement de l'application
window.mainloop()
