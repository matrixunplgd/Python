{
 "cells": [
  {
   "cell_type": "code",
   "execution_count": 8,
   "id": "0bc21ea3-453d-4f5d-9102-1786b7b50e6f",
   "metadata": {},
   "outputs": [
    {
     "name": "stdout",
     "output_type": "stream",
     "text": [
      "(1, 2, 3)\n"
     ]
    }
   ],
   "source": [
    "class Point3D:\n",
    "    def __init__(self, x, y, z):\n",
    "        self.x=x\n",
    "        self.y=y\n",
    "        self.z=z\n",
    "\n",
    "    def retour(self):\n",
    "        return self.x, self.y, self.z\n",
    "\n",
    "my_point = Point3D(1, 2, 3)\n",
    "\n",
    "print(my_point.retour())\n",
    "\n"
   ]
  },
  {
   "cell_type": "code",
   "execution_count": 20,
   "id": "257cde1a-401d-477d-9664-d66a54a951e5",
   "metadata": {},
   "outputs": [
    {
     "name": "stdout",
     "output_type": "stream",
     "text": [
      "The perimeter of the rectamgle is 12 ,  the area is 14\n"
     ]
    }
   ],
   "source": [
    "class Rectangle:\n",
    "    def __init__(self, length, width):\n",
    "        self.length = length\n",
    "        self.width = width\n",
    "\n",
    "    def area(self):\n",
    "        return (self.length*self.width)\n",
    "\n",
    "    def perimeter(self):\n",
    "        return (self.length+self.width)*2\n",
    "\n",
    "my_rectangle= Rectangle(4,3)\n",
    "\n",
    "print(\n",
    "    \"The perimeter of the rectamgle is {} ,  the area is {}\" .format(\n",
    "    my_rectangle.area(), my_rectangle.perimeter()\n",
    ")\n",
    ")"
   ]
  },
  {
   "cell_type": "code",
   "execution_count": 40,
   "id": "5df8befe-fb1f-4e49-ab1f-74e23ebf87e6",
   "metadata": {},
   "outputs": [
    {
     "name": "stdout",
     "output_type": "stream",
     "text": [
      "Area of the circle is : 78.53981633974483\n",
      "Perimeter of irle is :  31.41592653589793\n",
      "le point es dans le cercle\n"
     ]
    }
   ],
   "source": [
    "import math\n",
    "\n",
    "class Circle:\n",
    "    def __init__(self,x0, y0, radius):\n",
    "        self.x0 = x0\n",
    "        self.y0 = y0\n",
    "        self.radius=radius\n",
    "\n",
    "    def perimeter(self):\n",
    "        return (self.radius * math.pi)*2\n",
    "\n",
    "    def area(self):\n",
    "        return math.pi *self.radius ** 2\n",
    "\n",
    "    def is_inside(self, x, y):\n",
    "        distance = math.sqrt((x-self.x0) ** 2 +(y-self.y0) **2)\n",
    "        return distance <= self.radius\n",
    "\n",
    "my_circle = Circle(0,0,5)\n",
    "\n",
    "print(\"Area of the circle is :\", my_circle.area())\n",
    "print(\"Perimeter of irle is : \" , my_circle.perimeter())\n",
    "\n",
    "abs=2\n",
    "ord=4\n",
    "\n",
    "if my_circle.is_inside(abs, ord):\n",
    "    print(\"le point est dans le cercle\")\n",
    "else:\n",
    "    print(\"This point is not part of the circle\")\n"
   ]
  },
  {
   "cell_type": "code",
   "execution_count": 49,
   "id": "99d99c45-003e-48c6-9e15-65b622c3fa7e",
   "metadata": {},
   "outputs": [
    {
     "data": {
      "text/plain": [
       "40214178"
      ]
     },
     "execution_count": 49,
     "metadata": {},
     "output_type": "execute_result"
    }
   ],
   "source": [
    "class Bank_Account:\n",
    "    def __init__(self,balance):\n",
    "        self.balance = balance\n",
    "\n",
    "    def withdraw(self,amount_withdraw):\n",
    "        self.balance =self.balance- amount_withdraw\n",
    "        return self.balance\n",
    "\n",
    "    def deposit(self,amount_deposit):\n",
    "        self.balance =self.balance + amount_deposit\n",
    "        return self.balance\n",
    "\n",
    "account = Bank_Account(5000000)\n",
    "account.withdraw(5822)\n",
    "account.deposit(35220000)\n",
    "\n"
   ]
  },
  {
   "cell_type": "code",
   "execution_count": null,
   "id": "fac70869-46d3-46ab-8247-b94389ae5b03",
   "metadata": {},
   "outputs": [],
   "source": []
  },
  {
   "cell_type": "code",
   "execution_count": null,
   "id": "6cc7e75a-29e9-4abc-8e0f-958656afd149",
   "metadata": {},
   "outputs": [],
   "source": []
  }
 ],
 "metadata": {
  "kernelspec": {
   "display_name": "Python 3 (ipykernel)",
   "language": "python",
   "name": "python3"
  },
  "language_info": {
   "codemirror_mode": {
    "name": "ipython",
    "version": 3
   },
   "file_extension": ".py",
   "mimetype": "text/x-python",
   "name": "python",
   "nbconvert_exporter": "python",
   "pygments_lexer": "ipython3",
   "version": "3.12.7"
  }
 },
 "nbformat": 4,
 "nbformat_minor": 5
}
