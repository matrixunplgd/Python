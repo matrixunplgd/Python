{
 "cells": [
  {
   "cell_type": "code",
   "execution_count": null,
   "id": "72316758-9e4b-4824-b537-3f3ccbb14b24",
   "metadata": {},
   "outputs": [],
   "source": [
    "#CheckPoint\n",
    "try:\n",
    "    num1=int(input(\"Enter the first number: \"))\n",
    "    num2=int(input(\"Enter the second number: \"))\n",
    "    operator=input(\"Enter the Operator: \")\n",
    "\n",
    "    if operator == '+':\n",
    "      calculator=lambda x,z: x + z\n",
    "      print(calculator(num1, num2))\n",
    "    elif operator == '-':\n",
    "      calculator=lambda x,z: x - z\n",
    "      print(calculator(num1, num2))\n",
    "    elif operator == '*':\n",
    "      calculator=lambda x,z: x * z\n",
    "      print(calculator(num1, num2))\n",
    "    elif operator == '/':\n",
    "      try:\n",
    "        calculator=lambda x,z: x / z\n",
    "        print(calculator(num1, num2))\n",
    "      except ZeroDivisionError:\n",
    "        print(\"La division par 0 est interdite\")\n",
    "    else:\n",
    "      print(\"L operateur saisie est incorrect\")\n",
    "\n",
    "except ValueError:\n",
    "  print(\"Les valeurs saisies sont invalides\")\n"
   ]
  }
 ],
 "metadata": {
  "kernelspec": {
   "display_name": "Python 3 (ipykernel)",
   "language": "python",
   "name": "python3"
  },
  "language_info": {
   "codemirror_mode": {
    "name": "ipython",
    "version": 3
   },
   "file_extension": ".py",
   "mimetype": "text/x-python",
   "name": "python",
   "nbconvert_exporter": "python",
   "pygments_lexer": "ipython3",
   "version": "3.12.7"
  }
 },
 "nbformat": 4,
 "nbformat_minor": 5
}
