{
 "cells": [
  {
   "cell_type": "code",
   "execution_count": 11,
   "id": "606af9ec-c47c-4621-b051-898b4827f6fc",
   "metadata": {},
   "outputs": [
    {
     "name": "stdout",
     "output_type": "stream",
     "text": [
      "s Go nAmine Diagne you are and have always been the best"
     ]
    }
   ],
   "source": []
  },
  {
   "cell_type": "code",
   "execution_count": 13,
   "id": "d5a55eea-e67f-429c-b8d8-64e0a2c5fed0",
   "metadata": {},
   "outputs": [],
   "source": [
    "Voici le code sans les commentaires :\n",
    "\n",
    "```python\n",
    "with open(\"C:\\\\Users\\\\alamine\\\\Desktop\\\\Market Outlook.txt\", \"r\") as f:\n",
    "    print(f.read(4))\n",
    "\n",
    "    for line in f:\n",
    "        print(line, end='')\n",
    "\n",
    "x = int(input(\"Veuillez saisir le nombre de fois que je dois écrire le texte souhaité: \"))\n",
    "\n",
    "with open(\"C:\\\\Users\\\\alamine\\\\Desktop\\\\Market Outlook.txt\", \"a\", encoding=\"utf-8\") as f:\n",
    "    for i in range(x):\n",
    "        f.write(\"Let's Go nAmine Diagne you are and have always been the best\\n\")\n",
    "\n",
    "from collections import deque\n",
    "\n",
    "def lire_n_dernières_lignes_optimisees(file_path, n):\n",
    "    with open(file_path, \"r\", encoding=\"utf-8\") as f:\n",
    "        return deque(f, n)\n",
    "\n",
    "file_path = \"C:\\\\Users\\\\alamine\\\\Desktop\\\\Market Outlook.txt\"\n",
    "n = 5\n",
    "\n",
    "dernières_lignes = lire_n_dernières_lignes_optimisees(file_path, n)\n",
    "\n",
    "for line in dernières_lignes:\n",
    "    print(line, end=\"\")\n",
    "```"
   ]
  },
  {
   "cell_type": "code",
   "execution_count": null,
   "id": "f9b79546-7ffe-440d-9eb1-47778a8c529d",
   "metadata": {},
   "outputs": [],
   "source": []
  }
 ],
 "metadata": {
  "kernelspec": {
   "display_name": "Python 3 (ipykernel)",
   "language": "python",
   "name": "python3"
  },
  "language_info": {
   "codemirror_mode": {
    "name": "ipython",
    "version": 3
   },
   "file_extension": ".py",
   "mimetype": "text/x-python",
   "name": "python",
   "nbconvert_exporter": "python",
   "pygments_lexer": "ipython3",
   "version": "3.12.7"
  }
 },
 "nbformat": 4,
 "nbformat_minor": 5
}
