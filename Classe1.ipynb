{
 "cells": [
  {
   "cell_type": "code",
   "execution_count": null,
   "id": "4d345a92",
   "metadata": {
    "vscode": {
     "languageId": "plaintext"
    }
   },
   "outputs": [],
   "source": [
    "import random\n",
    "\n",
    "#Message de Bienvenue\n",
    "print(\"Bienvenue au jeu Devinez le nombre !\")\n",
    "print(\"Je pense à un nombre entre 1 et 100. Pouvez-vous deviner ce que c'est ?\")\n",
    "\n",
    "#generation d'un nombrealeatoire entre 1 et 100\n",
    "nombre=random.randint(1,100)\n",
    "\n",
    "#Initialisation de la variable qui stocke la supposition du joueur elle est nommer deviner\n",
    "devine=None\n",
    "\n",
    "#Utilisation de la boucle while\n",
    "while devine !=nombre:\n",
    "  try:\n",
    "    devine=int(input(\"Entrez votre estimation :\"))\n",
    "#si le nombre devine est superieure a celui aleatoirement cree par la machine\n",
    "    if devine > nombre:\n",
    "      print(\"Votre supposition est trop elevee.Reessayez.\")\n",
    "\n",
    "#si le nombre devine est inferieur a celui aleatoirement cree par la machine\n",
    "    elif devine < nombre:\n",
    "      print(\"Votre suppostion est trop basse .Reessayez.\")\n",
    "\n",
    "#Dans le cas ou le nombre devine est exact\n",
    "    else:\n",
    "      print(\"Felicitations !Vous avez devine le numero correctement !\")\n",
    "  except ValueError:\n",
    "    print(\"Veuillez entrer un nombre valide.\")\n",
    "\n",
    "\n",
    "\n",
    "\n",
    "\n",
    "\n",
    "\n"
   ]
  }
 ],
 "metadata": {
  "kernelspec": {
   "display_name": "Python 3 (ipykernel)",
   "language": "python",
   "name": "python3"
  },
  "language_info": {
   "codemirror_mode": {
    "name": "ipython",
    "version": 3
   },
   "file_extension": ".py",
   "mimetype": "text/x-python",
   "name": "python",
   "nbconvert_exporter": "python",
   "pygments_lexer": "ipython3",
   "version": "3.12.7"
  }
 },
 "nbformat": 4,
 "nbformat_minor": 5
}
