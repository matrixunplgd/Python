{
 "cells": [
  {
   "cell_type": "code",
   "execution_count": null,
   "id": "4d345a92",
   "metadata": {
    "vscode": {
     "languageId": "plaintext"
    }
   },
   "outputs": [],
   "source": [
    "import random\n",
    "x =random.randint(1,100)\n",
    "print('Welcome to the Guess the Number game')\n",
    "print('Im thinking of a number between 1 and 100. Can you guess what it is?')\n",
    "guess=int(input('Enter your guess:'))\n",
    "while guess !=x:\n",
    "  if guess > x:\n",
    "    print('Your guess is too high. Guess again.')\n",
    "  elif guess < x:\n",
    "    print('Your guess is too low. Guess again.')\n",
    "  guess=int(input('Enter your guess:'))\n",
    "\n",
    "print('Congratulations! You guessed the number correctly!')"
   ]
  }
 ],
 "metadata": {
  "language_info": {
   "name": "python"
  }
 },
 "nbformat": 4,
 "nbformat_minor": 5
}
